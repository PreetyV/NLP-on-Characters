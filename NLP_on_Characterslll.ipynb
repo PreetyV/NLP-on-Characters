{
 "cells": [
  {
   "cell_type": "code",
   "execution_count": 1,
   "metadata": {},
   "outputs": [],
   "source": [
    "import zipfile\n",
    "import os\n",
    "import glob\n",
    "path = \".\\\\allinputs\"\n",
    "from nltk import tokenize\n",
    "import re\n",
    "import collections\n",
    "\n",
    "import statistics \n",
    "from statistics import mode "
   ]
  },
  {
   "cell_type": "code",
   "execution_count": 2,
   "metadata": {},
   "outputs": [],
   "source": [
    "from vaderSentiment.vaderSentiment import SentimentIntensityAnalyzer\n",
    "analyser = SentimentIntensityAnalyzer()\n",
    "def sentiment_analyzer_scores(sentence):\n",
    "    score = analyser.polarity_scores(sentence)\n",
    "    return score"
   ]
  },
  {
   "cell_type": "code",
   "execution_count": 3,
   "metadata": {},
   "outputs": [],
   "source": [
    "def writetofile(listname,filename):\n",
    "    with open(filename, 'w') as f:\n",
    "        for item in listname:\n",
    "            f.write(str(item))"
   ]
  },
  {
   "cell_type": "code",
   "execution_count": 4,
   "metadata": {},
   "outputs": [],
   "source": [
    "maletext = []\n",
    "femaletext = []\n",
    "current = 'm'\n",
    "# string output = input.Substring(input.IndexOf('[^a-zA-Z]*') + 1);"
   ]
  },
  {
   "cell_type": "code",
   "execution_count": 5,
   "metadata": {},
   "outputs": [],
   "source": [
    "for subdir, dirs, files in os.walk(path):\n",
    "    for file in files:\n",
    "        if file.endswith(\".txt\"):\n",
    "            f=open(os.path.join(subdir, file),'r')\n",
    "            a = f.read()\n",
    "            content = tokenize.sent_tokenize(a) \n",
    "            for line1 in content:\n",
    "                line = line1.replace(\"\\\\r\\\\n\", \".\")\n",
    "                line = re.sub('\\d', '', line)\n",
    "                if (line[0] == 'H'):\n",
    "                    maletext.append(line)\n",
    "                    current = 'm'\n",
    "                elif (line[0] == 'S'):\n",
    "                    femaletext.append(line)\n",
    "                    current = 'f'\n",
    "            f.close()"
   ]
  },
  {
   "cell_type": "code",
   "execution_count": 6,
   "metadata": {},
   "outputs": [],
   "source": [
    "m = {x:[maletext.count(x),sentiment_analyzer_scores(x)[\"compound\"]] for x in maletext}\n",
    "mc = collections.Counter(maletext).most_common(10)\n",
    "writetofile(mc,\"mostcommonmale.txt\")"
   ]
  },
  {
   "cell_type": "code",
   "execution_count": 7,
   "metadata": {},
   "outputs": [],
   "source": [
    "f = {x:[femaletext.count(x),sentiment_analyzer_scores(x)[\"compound\"]] for x in femaletext}\n",
    "fc = collections.Counter(femaletext).most_common(10)\n",
    "writetofile(fc,\"mostcommonfemale.txt\")"
   ]
  },
  {
   "cell_type": "code",
   "execution_count": 8,
   "metadata": {},
   "outputs": [
    {
     "name": "stdout",
     "output_type": "stream",
     "text": [
      "top 10 females with positive sentiments\n"
     ]
    },
    {
     "data": {
      "text/plain": [
       "[\"She's a psychotic impetuous detective who hides her beauty behind a pair of thick-framed spectacles.\",\n",
       " \"She's a cold-hearted goth snake charmer from out of town.\",\n",
       " \"She's a manipulative renegade snake charmer fleeing from a Satanic cult.\",\n",
       " \"She's a chain-smoking out-of-work safe cracker living on borrowed time.\",\n",
       " \"She's a vivacious nymphomaniac doctor in the witness protection scheme.\",\n",
       " \"She's an enchanted kleptomaniac soap star with the soul of a mighty warrior.\",\n",
       " \"She's an enchanted nymphomaniac widow trying to make a difference in a man's world.\",\n",
       " \"She's a wealthy tomboy museum curator from a secret island of warrior women.\",\n",
       " \"She's a bloodthirsty motormouth lawyer from aristocratic European stock.\",\n",
       " \"She's a plucky kleptomaniac stripper from Mars.\"]"
      ]
     },
     "execution_count": 8,
     "metadata": {},
     "output_type": "execute_result"
    }
   ],
   "source": [
    "print (\"top 10 females with positive sentiments\")\n",
    "fp = sorted(f, key=f.__getitem__, reverse=True)[:10]\n",
    "writetofile(fp,\"mostpositivefemale.txt\")\n",
    "fp"
   ]
  },
  {
   "cell_type": "code",
   "execution_count": 9,
   "metadata": {},
   "outputs": [
    {
     "name": "stdout",
     "output_type": "stream",
     "text": [
      "top 10 males with positive sentiments\n"
     ]
    },
    {
     "data": {
      "text/plain": [
       "[\"He's an old-fashioned ninja romance novelist with a winning smile and a way with the ladies.\",\n",
       " \"He's a scrappy shark-wrestling boxer on the hunt for the last specimen of a great and near-mythical creature.\",\n",
       " \"He's an ungodly flyboy sorceror on the hunt for the last specimen of a great and near-mythical creature.\",\n",
       " \"He's an old-fashioned umbrella-wielding paranormal investigator with a passion for fast cars.\",\n",
       " \"He's an impetuous chivalrous jungle king with nothing left to lose.\",\n",
       " \"He's a Nobel prize-winning native American grifter with nothing left to lose.\",\n",
       " \"He's a leather-clad Jewish waffle chef on a mission from God.\",\n",
       " \"He's a scarfaced Jewish master criminal who dotes on his loving old ma.\",\n",
       " \"He's a gun-slinging day-dreaming paramedic fleeing from a secret government programme.\",\n",
       " \"He's an all-American Amish jungle king for the st century.\"]"
      ]
     },
     "execution_count": 9,
     "metadata": {},
     "output_type": "execute_result"
    }
   ],
   "source": [
    "print (\"top 10 males with positive sentiments\")\n",
    "mp = sorted(m, key=m.__getitem__, reverse=True)[:10]\n",
    "writetofile(mp,\"mostpositivemale.txt\")\n",
    "mp"
   ]
  },
  {
   "cell_type": "code",
   "execution_count": 10,
   "metadata": {},
   "outputs": [
    {
     "name": "stdout",
     "output_type": "stream",
     "text": [
      "top 10 female with negative sentiments\n"
     ]
    },
    {
     "data": {
      "text/plain": [
       "[\"She's an artistic French-Canadian cab driver on her way to prison for a murder she didn't commit.\",\n",
       " \"She's a man-hating renegade femme fatale on her way to prison for a murder she didn't commit.\",\n",
       " \"She's a radical gypsy nun on her way to prison for a murder she didn't commit.\",\n",
       " \"She's a virginal mute fairy princess on her way to prison for a murder she didn't commit.\",\n",
       " \"She's a foxy tomboy vampire on her way to prison for a murder she didn't commit.\",\n",
       " \"She's a foxy punk Valkyrie on her way to prison for a murder she didn't commit.\",\n",
       " \"She's a violent green-skinned nun in the wrong place at the wrong time.\",\n",
       " \"She's a tortured kleptomaniac wrestler prone to fits of savage, blood-crazed rage.\",\n",
       " \"She's a sarcastic bisexual opera singer on her way to prison for a murder she didn't commit.\",\n",
       " \"She's a tortured cat-loving schoolgirl on her way to prison for a murder she didn't commit.\"]"
      ]
     },
     "execution_count": 10,
     "metadata": {},
     "output_type": "execute_result"
    }
   ],
   "source": [
    "print (\"top 10 female with negative sentiments\")\n",
    "fn = sorted(f, key=f.__getitem__, reverse=True)[-10:]\n",
    "writetofile(fn,\"mostnegativefemale.txt\")\n",
    "fn"
   ]
  },
  {
   "cell_type": "code",
   "execution_count": 11,
   "metadata": {},
   "outputs": [
    {
     "name": "stdout",
     "output_type": "stream",
     "text": [
      "top 10 male with negative sentiments\n"
     ]
    },
    {
     "data": {
      "text/plain": [
       "[\"He's a hate-fuelled devious waffle chef plagued by the memory of his family's brutal murder.\",\n",
       " \"He's a hate-fuelled Catholic messiah plagued by the memory of his family's brutal murder.\",\n",
       " \"He's a hate-fuelled arachnophobic paramedic plagued by the memory of his family's brutal murder.\",\n",
       " \"He's an old-fashioned playboy grifter plagued by the memory of his family's brutal murder.\",\n",
       " \"He's a leather-clad one-eyed filmmaker plagued by the memory of his family's brutal murder.\",\n",
       " \"He's an unconventional sweet-toothed paranormal investigator plagued by the memory of his family's brutal murder.\",\n",
       " \"He's a one-legged devious paranormal investigator plagued by the memory of his family's brutal murder.\",\n",
       " \"He's a benighted drug-addicted messiah plagued by the memory of his family's brutal murder.\",\n",
       " \"He's a shy white trash Green Beret plagued by the memory of his family's brutal murder.\",\n",
       " \"He's an ungodly small-town master criminal plagued by the memory of his family's brutal murder.\"]"
      ]
     },
     "execution_count": 11,
     "metadata": {},
     "output_type": "execute_result"
    }
   ],
   "source": [
    "print (\"top 10 male with negative sentiments\")\n",
    "mn = sorted(m, key=m.__getitem__, reverse=True)[-10:]\n",
    "writetofile(mn,\"mostnegativemale.txt\")\n",
    "mn"
   ]
  },
  {
   "cell_type": "code",
   "execution_count": null,
   "metadata": {},
   "outputs": [],
   "source": []
  }
 ],
 "metadata": {
  "kernelspec": {
   "display_name": "Python 3",
   "language": "python",
   "name": "python3"
  },
  "language_info": {
   "codemirror_mode": {
    "name": "ipython",
    "version": 3
   },
   "file_extension": ".py",
   "mimetype": "text/x-python",
   "name": "python",
   "nbconvert_exporter": "python",
   "pygments_lexer": "ipython3",
   "version": "3.7.0"
  }
 },
 "nbformat": 4,
 "nbformat_minor": 2
}
